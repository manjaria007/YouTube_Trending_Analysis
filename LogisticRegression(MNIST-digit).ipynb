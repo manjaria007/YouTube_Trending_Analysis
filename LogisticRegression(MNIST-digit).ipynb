{
  "nbformat": 4,
  "nbformat_minor": 0,
  "metadata": {
    "kernelspec": {
      "display_name": "Python 3",
      "language": "python",
      "name": "python3"
    },
    "language_info": {
      "codemirror_mode": {
        "name": "ipython",
        "version": 3
      },
      "file_extension": ".py",
      "mimetype": "text/x-python",
      "name": "python",
      "nbconvert_exporter": "python",
      "pygments_lexer": "ipython3",
      "version": "3.8.3"
    },
    "colab": {
      "name": "ALY6020MOD2Assignment.ipynb",
      "provenance": [],
      "collapsed_sections": [],
      "toc_visible": true,
      "include_colab_link": true
    }
  },
  "cells": [
    {
      "cell_type": "markdown",
      "metadata": {
        "id": "view-in-github",
        "colab_type": "text"
      },
      "source": [
        "<a href=\"https://colab.research.google.com/github/manjaria007/classifierss/blob/master/LogisticRegression(MNIST-digit).ipynb\" target=\"_parent\"><img src=\"https://colab.research.google.com/assets/colab-badge.svg\" alt=\"Open In Colab\"/></a>"
      ]
    },
    {
      "cell_type": "markdown",
      "metadata": {
        "id": "mnSGiFumcQeT"
      },
      "source": [
        "# Logistic Regression Using MNIST Dataset"
      ]
    },
    {
      "cell_type": "code",
      "metadata": {
        "id": "V4EPPMsJcQeV"
      },
      "source": [
        "# Import nescessary libraries\n",
        "from sklearn.linear_model import LogisticRegression\n",
        "import pandas as pd\n",
        "import numpy as np\n",
        "from sklearn import metrics\n",
        "import matplotlib.pyplot as plt\n",
        "import os\n",
        "import warnings\n",
        "warnings.filterwarnings('ignore')\n"
      ],
      "execution_count": 2,
      "outputs": []
    },
    {
      "cell_type": "markdown",
      "metadata": {
        "id": "UaDi_DhvcQeW"
      },
      "source": [
        "# Data Processing"
      ]
    },
    {
      "cell_type": "code",
      "metadata": {
        "id": "1S9kkoVAcQeW"
      },
      "source": [
        "# Select Data\n",
        "\n",
        "trainDataPath = \"/content/drive/MyDrive/sample_data/mnist_train.csv\"\n",
        "testDataPath = \"/content/drive/MyDrive/sample_data/mnist_test.csv\""
      ],
      "execution_count": 3,
      "outputs": []
    },
    {
      "cell_type": "code",
      "metadata": {
        "id": "iNR1_RpEcQeX"
      },
      "source": [
        "# Import MNIST train and test sets\n",
        "try:\n",
        "    train = pd.read_csv(trainDataPath)\n",
        "    test = pd.read_csv(testDataPath)\n",
        "except FileNotFoundError: \n",
        "    print(\"File not found. Please download file mnist_train.csv and mnist_test.csv\")\n"
      ],
      "execution_count": 4,
      "outputs": []
    },
    {
      "cell_type": "code",
      "metadata": {
        "id": "Cf5yC0WgcQeX"
      },
      "source": [
        "train = train.to_numpy()\n",
        "test = test.to_numpy()"
      ],
      "execution_count": 5,
      "outputs": []
    },
    {
      "cell_type": "code",
      "metadata": {
        "id": "WVl2Ro3lcQeX"
      },
      "source": [
        "# digitLabel: The label associated with each image is encoded as an integer value between 0 and 9\n",
        "# pixelVal: The pixel values of the 28x28=784 pixels of the image.\n",
        "\n",
        "class MnistDL:\n",
        "    def __init__(self, digitLabel, pixelVal):\n",
        "        self.digitLabel = digitLabel.flatten()\n",
        "        self.pixelVal = pixelVal\n"
      ],
      "execution_count": 6,
      "outputs": []
    },
    {
      "cell_type": "code",
      "metadata": {
        "id": "3y_vo6wncQeY"
      },
      "source": [
        "# Train and test from MnistDL class\n",
        "train_data = MnistDL(train[0:,0:1], train[0:,1:785])\n",
        "test_data = MnistDL(test[0:,0:1], test[0:,1:785])\n",
        "\n",
        "# Labels: the first column of dataset, extracted by using data[0:,0:1] \n",
        "# Pixel values: the remaining 784 columns correspond to the pixel values of the 28x28=784 pixels of the image,\n",
        "# extracted by using data[0:,1:785]    "
      ],
      "execution_count": 7,
      "outputs": []
    },
    {
      "cell_type": "markdown",
      "metadata": {
        "id": "vs6c0POlcQeY"
      },
      "source": [
        "# Visualizing Dataset"
      ]
    },
    {
      "cell_type": "code",
      "metadata": {
        "id": "mEH2lV9OcQeZ"
      },
      "source": [
        "# Plot a image\n",
        "def plot_image(data, row):\n",
        "    plt.imshow(np.reshape(data[row], (28,28)), cmap = plt.cm.gray)\n",
        "    plt.title('Training: %i\\n' % train_data.digitLabel[row], fontsize = 20)\n",
        "    "
      ],
      "execution_count": 8,
      "outputs": []
    },
    {
      "cell_type": "code",
      "metadata": {
        "colab": {
          "base_uri": "https://localhost:8080/",
          "height": 308
        },
        "id": "1bmQgX0PcQeZ",
        "outputId": "4a7fdd16-87f3-427d-97e5-378e44cf4520"
      },
      "source": [
        "# Plotting the image in train data\n",
        "plot_image(train_data.pixelVal, 3)"
      ],
      "execution_count": 9,
      "outputs": [
        {
          "output_type": "display_data",
          "data": {
            "image/png": "[encoded data removed]",
            "text/plain": [
              "<Figure size 432x288 with 1 Axes>"
            ]
          },
          "metadata": {
            "tags": [],
            "needs_background": "light"
          }
        }
      ]
    },
    {
      "cell_type": "code",
      "metadata": {
        "colab": {
          "base_uri": "https://localhost:8080/",
          "height": 169
        },
        "id": "kBQ_FdDZcQeZ",
        "outputId": "2cdee467-a88a-400f-d3d5-4e2338a9e75b"
      },
      "source": [
        "# Plotting multiple images\n",
        "plt.figure(figsize=(30,4))\n",
        "for i, (image, label) in enumerate(zip(train_data.pixelVal[0:5], train_data.digitLabel[0:5])):\n",
        "    plt.subplot(1, 5, i + 1)\n",
        "    plt.imshow(np.reshape(image, (28,28)), cmap = plt.cm.gray)\n",
        "    plt.title('Training: %i\\n' % label, fontsize = 20)"
      ],
      "execution_count": 10,
      "outputs": [
        {
          "output_type": "display_data",
          "data": {
            "image/png": "[encoded data removed]",
            "text/plain": [
              "<Figure size 2160x288 with 5 Axes>"
            ]
          },
          "metadata": {
            "tags": [],
            "needs_background": "light"
          }
        }
      ]
    },
    {
      "cell_type": "markdown",
      "metadata": {
        "id": "kLkkBDNpcQea"
      },
      "source": [
        "## Logistic Regression Model"
      ]
    },
    {
      "cell_type": "code",
      "metadata": {
        "id": "ylKC7sJRcQea"
      },
      "source": [
        "# train and test sets\n",
        "x_train, y_train, x_test, y_test = [train_data.pixelVal, \n",
        "                                    train_data.digitLabel, \n",
        "                                    test_data.pixelVal, \n",
        "                                    test_data.digitLabel]"
      ],
      "execution_count": 11,
      "outputs": []
    },
    {
      "cell_type": "code",
      "metadata": {
        "id": "GLxBg63tcQea"
      },
      "source": [
        "lr = LogisticRegression(solver = 'lbfgs')"
      ],
      "execution_count": 12,
      "outputs": []
    },
    {
      "cell_type": "code",
      "metadata": {
        "colab": {
          "base_uri": "https://localhost:8080/"
        },
        "id": "mYTVA__KcQea",
        "outputId": "a1886cc2-b0f2-4694-dbe5-4b969d870a72"
      },
      "source": [
        "lr.fit(x_train, y_train)"
      ],
      "execution_count": 13,
      "outputs": [
        {
          "output_type": "execute_result",
          "data": {
            "text/plain": [
              "LogisticRegression(C=1.0, class_weight=None, dual=False, fit_intercept=True,\n",
              "                   intercept_scaling=1, l1_ratio=None, max_iter=100,\n",
              "                   multi_class='auto', n_jobs=None, penalty='l2',\n",
              "                   random_state=None, solver='lbfgs', tol=0.0001, verbose=0,\n",
              "                   warm_start=False)"
            ]
          },
          "metadata": {
            "tags": []
          },
          "execution_count": 13
        }
      ]
    },
    {
      "cell_type": "code",
      "metadata": {
        "id": "aJ0ZMWHEcQeb"
      },
      "source": [
        "#Predict_proba to get probabilities from the dataset\r\n",
        "prob = lr.predict_proba(x_test[1].reshape(1, -1))"
      ],
      "execution_count": 15,
      "outputs": []
    },
    {
      "cell_type": "code",
      "metadata": {
        "colab": {
          "base_uri": "https://localhost:8080/"
        },
        "id": "z6Gd8vPRcQeb",
        "outputId": "0923c41e-b0c2-444a-bb42-91b92d5eb58c"
      },
      "source": [
        "prob"
      ],
      "execution_count": 16,
      "outputs": [
        {
          "output_type": "execute_result",
          "data": {
            "text/plain": [
              "array([[2.16388046e-07, 9.84488798e-01, 9.08831414e-03, 1.37109531e-03,\n",
              "        3.60420602e-05, 1.46218602e-04, 4.97176247e-04, 4.37974299e-04,\n",
              "        3.74858623e-03, 1.85578237e-04]])"
            ]
          },
          "metadata": {
            "tags": []
          },
          "execution_count": 16
        }
      ]
    },
    {
      "cell_type": "code",
      "metadata": {
        "id": "Tir5wbpWcQeb"
      },
      "source": [
        "# Object to store model results \n",
        "class LR():\n",
        "    def __init__(self, lr, confusion_matrix, accuracy):\n",
        "        self.lr = lr\n",
        "        self.confusion_matrix = confusion_matrix\n",
        "        self.accuracy = accuracy"
      ],
      "execution_count": 17,
      "outputs": []
    },
    {
      "cell_type": "code",
      "metadata": {
        "id": "E6rspvH2cQec"
      },
      "source": [
        "def lrModel(digit):\n",
        "    # Check parameters\n",
        "    if(digit < 0 or digit > 9 or type(digit) != int):\n",
        "        print('Invalid digit value. Please re-enter integer digit value between 0 and 9.')\n",
        "        return\n",
        "    \n",
        "    # Relabelling each response with a 1 if its value is equal to the given digit, and 0 otherwise. \n",
        "    train_label = np.empty([len(y_train)]).astype(int)\n",
        "    for index, _ in enumerate(train_label):\n",
        "        train_label[index] = 1 if y_train[index] == digit else 0 \n",
        "    \n",
        "    # same relabel for test data\n",
        "    test_label = np.empty([len(y_test)]).astype(int)\n",
        "    for index, _ in enumerate(test_label):\n",
        "        test_label[index] = 1 if y_test[index] == digit else 0 \n",
        "\n",
        "    # Build logistic model\n",
        "    lr.fit(x_train, train_label)\n",
        "    \n",
        "    # predict\n",
        "    predictions = lr.predict(x_test)\n",
        "    \n",
        "    # confusion matrix for the model\n",
        "    confMatrix = metrics.confusion_matrix(test_label, predictions)\n",
        "        \n",
        "    # score method to get accuracy of model\n",
        "    score = lr.score(x_test, test_label)\n",
        "    \n",
        "    return LR(lr, confMatrix, score)"
      ],
      "execution_count": 18,
      "outputs": []
    },
    {
      "cell_type": "code",
      "metadata": {
        "id": "BVu9tpMwY-nE"
      },
      "source": [
        "predictions = lr.predict(x_test)"
      ],
      "execution_count": 26,
      "outputs": []
    },
    {
      "cell_type": "markdown",
      "metadata": {
        "id": "gRwLv9zkcQec"
      },
      "source": [
        "# Calculate Probability of an predicting image "
      ]
    },
    {
      "cell_type": "code",
      "metadata": {
        "id": "LdBivyiCcQec"
      },
      "source": [
        "def probcal(digit, predictValue):\n",
        "    lr = lrModel(digit).lr\n",
        "    print(lr.predict_proba(predictValue.reshape(1, -1)))\n",
        "    prob = lr.predict_proba(predictValue.reshape(1, -1))[0][1]\n",
        "\n",
        "    return prob"
      ],
      "execution_count": 19,
      "outputs": []
    },
    {
      "cell_type": "code",
      "metadata": {
        "id": "NFMMoDLucQed"
      },
      "source": [
        "# softmax function to transform 10 probabilities into a probability distribution over the ten digits\n",
        "def softmax(predictValue):\n",
        "    probabilities = np.empty(10)\n",
        "    for i in range(10):\n",
        "        probabilities[i] = probcal(i, predictValue)\n",
        "    \n",
        "    # Applying softmax to create a probability distribution\n",
        "    e_z = np.exp(probabilities)\n",
        "    e_z = e_z/e_z.sum()\n",
        "    \n",
        "    print(probabilities)\n",
        "    # Show the maximum probability from softmax calculation, indicating predicted digit\n",
        "    smprob = max(e_z)\n",
        "    predictedDigit = e_z.tolist().index(smprob)\n",
        "    print(e_z)\n",
        "    # Print results\n",
        "    print(f'Predicted digit: {predictedDigit}') \n",
        "    print(f'Prob.: {probabilities[predictedDigit]}')\n",
        "    print(f'Prob. from Softmax function: {smprob}')"
      ],
      "execution_count": 21,
      "outputs": []
    },
    {
      "cell_type": "code",
      "metadata": {
        "colab": {
          "base_uri": "https://localhost:8080/"
        },
        "id": "8B2XlRwmcQed",
        "outputId": "147a78a4-7a84-407c-d71d-baed3941bfdb"
      },
      "source": [
        "# Calculate probability of the third image in test set\n",
        "softmax(x_test[2])"
      ],
      "execution_count": 22,
      "outputs": [
        {
          "output_type": "stream",
          "text": [
            "[[9.66013751e-04 9.99033986e-01]]\n",
            "[[1.00000000e+00 1.44444541e-12]]\n",
            "[[9.99634384e-01 3.65616425e-04]]\n",
            "[[9.99884184e-01 1.15816010e-04]]\n",
            "[[9.99999862e-01 1.38350753e-07]]\n",
            "[[9.99802314e-01 1.97685930e-04]]\n",
            "[[0.99704352 0.00295648]]\n",
            "[[9.99963689e-01 3.63111245e-05]]\n",
            "[[9.99809464e-01 1.90536164e-04]]\n",
            "[[9.99950483e-01 4.95168023e-05]]\n",
            "[9.99033986e-01 1.44444541e-12 3.65616425e-04 1.15816010e-04\n",
            " 1.38350753e-07 1.97685930e-04 2.95647970e-03 3.63111245e-05\n",
            " 1.90536164e-04 4.95168023e-05]\n",
            "[0.23171979 0.08532734 0.08535854 0.08533722 0.08532735 0.0853442\n",
            " 0.08557998 0.08533043 0.08534359 0.08533156]\n",
            "Predicted digit: 0\n",
            "Prob.: 0.9990339862486033\n",
            "Prob. from Softmax function: 0.23171979187014757\n"
          ],
          "name": "stdout"
        }
      ]
    },
    {
      "cell_type": "markdown",
      "metadata": {
        "id": "9L2e7QMncQed"
      },
      "source": [
        "# confusion matrix for each model"
      ]
    },
    {
      "cell_type": "code",
      "metadata": {
        "id": "fbBho9mScQee"
      },
      "source": [
        "# Function showing confusion matrix and model accuracy of all models for digit (0-9)\n",
        "def confusion_matrix():\n",
        "    for digit in range(10): \n",
        "        model = lrModel(digit)\n",
        "        print(f'Confusion Matrix of model for digit {digit}:') \n",
        "        print(model.confusion_matrix)\n",
        "        print(f'Accuracy: {model.accuracy}')\n",
        "        print('------------------------------------------------')"
      ],
      "execution_count": 23,
      "outputs": []
    },
    {
      "cell_type": "code",
      "metadata": {
        "colab": {
          "base_uri": "https://localhost:8080/"
        },
        "id": "AcMluUFlcQee",
        "outputId": "ae515191-4234-4124-da7c-27583033d7b0"
      },
      "source": [
        "confusion_matrix()"
      ],
      "execution_count": 24,
      "outputs": [
        {
          "output_type": "stream",
          "text": [
            "Confusion Matrix of model for digit 0:\n",
            "[[8972   47]\n",
            " [  30  950]]\n",
            "Accuracy: 0.9922992299229924\n",
            "------------------------------------------------\n",
            "Confusion Matrix of model for digit 1:\n",
            "[[8824   40]\n",
            " [  27 1108]]\n",
            "Accuracy: 0.9932993299329933\n",
            "------------------------------------------------\n",
            "Confusion Matrix of model for digit 2:\n",
            "[[8913   54]\n",
            " [ 144  888]]\n",
            "Accuracy: 0.9801980198019802\n",
            "------------------------------------------------\n",
            "Confusion Matrix of model for digit 3:\n",
            "[[8887  102]\n",
            " [ 138  872]]\n",
            "Accuracy: 0.975997599759976\n",
            "------------------------------------------------\n",
            "Confusion Matrix of model for digit 4:\n",
            "[[8939   78]\n",
            " [  90  892]]\n",
            "Accuracy: 0.9831983198319832\n",
            "------------------------------------------------\n",
            "Confusion Matrix of model for digit 5:\n",
            "[[9033   74]\n",
            " [ 147  745]]\n",
            "Accuracy: 0.9778977897789779\n",
            "------------------------------------------------\n",
            "Confusion Matrix of model for digit 6:\n",
            "[[8972   69]\n",
            " [  82  876]]\n",
            "Accuracy: 0.9848984898489849\n",
            "------------------------------------------------\n",
            "Confusion Matrix of model for digit 7:\n",
            "[[8898   74]\n",
            " [  96  931]]\n",
            "Accuracy: 0.982998299829983\n",
            "------------------------------------------------\n",
            "Confusion Matrix of model for digit 8:\n",
            "[[8810  215]\n",
            " [ 317  657]]\n",
            "Accuracy: 0.9467946794679468\n",
            "------------------------------------------------\n",
            "Confusion Matrix of model for digit 9:\n",
            "[[8819  171]\n",
            " [ 202  807]]\n",
            "Accuracy: 0.9626962696269626\n",
            "------------------------------------------------\n"
          ],
          "name": "stdout"
        }
      ]
    }
  ]
}